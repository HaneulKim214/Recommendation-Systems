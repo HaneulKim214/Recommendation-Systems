{
 "cells": [
  {
   "cell_type": "code",
   "execution_count": 1,
   "id": "29042475",
   "metadata": {},
   "outputs": [],
   "source": [
    "import numpy as np\n",
    "import pandas as pd"
   ]
  },
  {
   "cell_type": "code",
   "execution_count": 2,
   "id": "bc9dd479",
   "metadata": {},
   "outputs": [
    {
     "data": {
      "text/html": [
       "<style>.container { width:90% !important; }</style>"
      ],
      "text/plain": [
       "<IPython.core.display.HTML object>"
      ]
     },
     "metadata": {},
     "output_type": "display_data"
    }
   ],
   "source": [
    "from IPython.display import display, HTML\n",
    "display(HTML(\"<style>.container { width:90% !important; }</style>\"))"
   ]
  },
  {
   "cell_type": "code",
   "execution_count": 3,
   "id": "c473ff56",
   "metadata": {},
   "outputs": [],
   "source": [
    "date_col = 't_dat'\n",
    "user_col = 'customer_id'\n",
    "item_col = 'product_code'"
   ]
  },
  {
   "cell_type": "code",
   "execution_count": 4,
   "id": "ff8c91ce",
   "metadata": {},
   "outputs": [],
   "source": [
    "rec_result_df = pd.read_parquet(\"data/h&m/rec_result_sample_df.parquet\")\n",
    "test_seq_df = pd.read_parquet(\"data/h&m/test_seq_df.parquet\")"
   ]
  },
  {
   "cell_type": "code",
   "execution_count": 5,
   "id": "9426f45e",
   "metadata": {},
   "outputs": [
    {
     "name": "stdout",
     "output_type": "stream",
     "text": [
      "(1200, 4)\n"
     ]
    },
    {
     "data": {
      "text/html": [
       "<div>\n",
       "<style scoped>\n",
       "    .dataframe tbody tr th:only-of-type {\n",
       "        vertical-align: middle;\n",
       "    }\n",
       "\n",
       "    .dataframe tbody tr th {\n",
       "        vertical-align: top;\n",
       "    }\n",
       "\n",
       "    .dataframe thead th {\n",
       "        text-align: right;\n",
       "    }\n",
       "</style>\n",
       "<table border=\"1\" class=\"dataframe\">\n",
       "  <thead>\n",
       "    <tr style=\"text-align: right;\">\n",
       "      <th></th>\n",
       "      <th>item_id</th>\n",
       "      <th>score</th>\n",
       "      <th>item_nm</th>\n",
       "      <th>rank</th>\n",
       "    </tr>\n",
       "  </thead>\n",
       "  <tbody>\n",
       "    <tr>\n",
       "      <th>0</th>\n",
       "      <td>821673</td>\n",
       "      <td>4.976759</td>\n",
       "      <td>H2 Tilda skirt</td>\n",
       "      <td>1</td>\n",
       "    </tr>\n",
       "    <tr>\n",
       "      <th>1</th>\n",
       "      <td>835247</td>\n",
       "      <td>4.682164</td>\n",
       "      <td>Supernova</td>\n",
       "      <td>2</td>\n",
       "    </tr>\n",
       "    <tr>\n",
       "      <th>2</th>\n",
       "      <td>771829</td>\n",
       "      <td>4.519316</td>\n",
       "      <td>Noah cowl neck dress</td>\n",
       "      <td>3</td>\n",
       "    </tr>\n",
       "    <tr>\n",
       "      <th>3</th>\n",
       "      <td>812683</td>\n",
       "      <td>4.485424</td>\n",
       "      <td>Notting Hill</td>\n",
       "      <td>4</td>\n",
       "    </tr>\n",
       "    <tr>\n",
       "      <th>4</th>\n",
       "      <td>794396</td>\n",
       "      <td>4.480327</td>\n",
       "      <td>Sally</td>\n",
       "      <td>5</td>\n",
       "    </tr>\n",
       "  </tbody>\n",
       "</table>\n",
       "</div>"
      ],
      "text/plain": [
       "   item_id     score               item_nm  rank\n",
       "0   821673  4.976759        H2 Tilda skirt     1\n",
       "1   835247  4.682164             Supernova     2\n",
       "2   771829  4.519316  Noah cowl neck dress     3\n",
       "3   812683  4.485424          Notting Hill     4\n",
       "4   794396  4.480327                 Sally     5"
      ]
     },
     "execution_count": 5,
     "metadata": {},
     "output_type": "execute_result"
    }
   ],
   "source": [
    "print(rec_result_df.shape)\n",
    "rec_result_df.head()"
   ]
  },
  {
   "cell_type": "code",
   "execution_count": 6,
   "id": "3f7c7721",
   "metadata": {},
   "outputs": [],
   "source": [
    "# Creating dummy user_id\n",
    "user_ids = sum([[user_id]*12 for user_id in test_seq_df['customer_id'].unique()[:100]], [])\n",
    "rec_result_df['user_id'] = user_ids"
   ]
  },
  {
   "cell_type": "code",
   "execution_count": 7,
   "id": "aabc33e2",
   "metadata": {},
   "outputs": [],
   "source": [
    "at_k = 5\n",
    "df = pd.DataFrame(rec_result_df.groupby('user_id')['item_id'].apply(lambda x: list(x)[:at_k])).rename(columns={\"item_id\":\"topk_rec\"})\n",
    "test_seq_df['input_items'] = test_seq_df['seq_list'].apply(lambda x: x[:-1])\n",
    "test_seq_df = test_seq_df.merge(df, left_on='customer_id', right_index=True, how='left')"
   ]
  },
  {
   "cell_type": "code",
   "execution_count": 11,
   "id": "6c49deb2",
   "metadata": {},
   "outputs": [
    {
     "data": {
      "text/html": [
       "<div>\n",
       "<style scoped>\n",
       "    .dataframe tbody tr th:only-of-type {\n",
       "        vertical-align: middle;\n",
       "    }\n",
       "\n",
       "    .dataframe tbody tr th {\n",
       "        vertical-align: top;\n",
       "    }\n",
       "\n",
       "    .dataframe thead th {\n",
       "        text-align: right;\n",
       "    }\n",
       "</style>\n",
       "<table border=\"1\" class=\"dataframe\">\n",
       "  <thead>\n",
       "    <tr style=\"text-align: right;\">\n",
       "      <th></th>\n",
       "      <th>t_dat</th>\n",
       "      <th>customer_id</th>\n",
       "      <th>article_id</th>\n",
       "      <th>price</th>\n",
       "      <th>sales_channel_id</th>\n",
       "      <th>product_code</th>\n",
       "      <th>n_seq</th>\n",
       "      <th>true_y</th>\n",
       "      <th>input_items</th>\n",
       "      <th>topk_rec</th>\n",
       "    </tr>\n",
       "  </thead>\n",
       "  <tbody>\n",
       "    <tr>\n",
       "      <th>0</th>\n",
       "      <td>2020-01-01</td>\n",
       "      <td>0034b3dced3e565a43438bdfb5447e7321fea65388b398...</td>\n",
       "      <td>835247001</td>\n",
       "      <td>0.033881</td>\n",
       "      <td>2</td>\n",
       "      <td>835247</td>\n",
       "      <td>8</td>\n",
       "      <td>874547</td>\n",
       "      <td>[835247, 537116, 821673, 821673, 796239, 87454...</td>\n",
       "      <td>[821673, 835247, 771829, 812683, 794396]</td>\n",
       "    </tr>\n",
       "    <tr>\n",
       "      <th>1</th>\n",
       "      <td>2020-01-01</td>\n",
       "      <td>00410b91d62eefa76958fa5cac12f5daa7cfc0556e417d...</td>\n",
       "      <td>802930002</td>\n",
       "      <td>0.067780</td>\n",
       "      <td>2</td>\n",
       "      <td>802930</td>\n",
       "      <td>23</td>\n",
       "      <td>867622</td>\n",
       "      <td>[802930, 760084, 851993, 803118, 674606, 67460...</td>\n",
       "      <td>[688558, 574109, 772902, 624486, 674606]</td>\n",
       "    </tr>\n",
       "    <tr>\n",
       "      <th>2</th>\n",
       "      <td>2020-01-01</td>\n",
       "      <td>004b0fb384bcab2f8e1059dd5ca68c17580365ab95c05a...</td>\n",
       "      <td>804662002</td>\n",
       "      <td>0.033881</td>\n",
       "      <td>2</td>\n",
       "      <td>804662</td>\n",
       "      <td>6</td>\n",
       "      <td>815000</td>\n",
       "      <td>[804662, 801554, 801554, 765448, 792490]</td>\n",
       "      <td>[801554, 792490, 804662, 792517, 818894]</td>\n",
       "    </tr>\n",
       "    <tr>\n",
       "      <th>3</th>\n",
       "      <td>2020-01-01</td>\n",
       "      <td>005ed70ec112c857cebb66e92753a6c938004a75ae8708...</td>\n",
       "      <td>773719004</td>\n",
       "      <td>0.030492</td>\n",
       "      <td>2</td>\n",
       "      <td>773719</td>\n",
       "      <td>2</td>\n",
       "      <td>762205</td>\n",
       "      <td>[773719]</td>\n",
       "      <td>[762205, 773719, 812167, 754323, 660599]</td>\n",
       "    </tr>\n",
       "    <tr>\n",
       "      <th>4</th>\n",
       "      <td>2020-01-01</td>\n",
       "      <td>007a21531a3afd432f5af7fbc3ec9480686ec621ac9b49...</td>\n",
       "      <td>774224002</td>\n",
       "      <td>0.016932</td>\n",
       "      <td>2</td>\n",
       "      <td>774224</td>\n",
       "      <td>27</td>\n",
       "      <td>864755</td>\n",
       "      <td>[774224, 795536, 707704, 788844, 736066, 78902...</td>\n",
       "      <td>[824148, 783440, 741843, 587137, 761621]</td>\n",
       "    </tr>\n",
       "  </tbody>\n",
       "</table>\n",
       "</div>"
      ],
      "text/plain": [
       "       t_dat                                        customer_id  article_id  \\\n",
       "0 2020-01-01  0034b3dced3e565a43438bdfb5447e7321fea65388b398...   835247001   \n",
       "1 2020-01-01  00410b91d62eefa76958fa5cac12f5daa7cfc0556e417d...   802930002   \n",
       "2 2020-01-01  004b0fb384bcab2f8e1059dd5ca68c17580365ab95c05a...   804662002   \n",
       "3 2020-01-01  005ed70ec112c857cebb66e92753a6c938004a75ae8708...   773719004   \n",
       "4 2020-01-01  007a21531a3afd432f5af7fbc3ec9480686ec621ac9b49...   774224002   \n",
       "\n",
       "      price  sales_channel_id  product_code  n_seq  true_y  \\\n",
       "0  0.033881                 2        835247      8  874547   \n",
       "1  0.067780                 2        802930     23  867622   \n",
       "2  0.033881                 2        804662      6  815000   \n",
       "3  0.030492                 2        773719      2  762205   \n",
       "4  0.016932                 2        774224     27  864755   \n",
       "\n",
       "                                         input_items  \\\n",
       "0  [835247, 537116, 821673, 821673, 796239, 87454...   \n",
       "1  [802930, 760084, 851993, 803118, 674606, 67460...   \n",
       "2           [804662, 801554, 801554, 765448, 792490]   \n",
       "3                                           [773719]   \n",
       "4  [774224, 795536, 707704, 788844, 736066, 78902...   \n",
       "\n",
       "                                   topk_rec  \n",
       "0  [821673, 835247, 771829, 812683, 794396]  \n",
       "1  [688558, 574109, 772902, 624486, 674606]  \n",
       "2  [801554, 792490, 804662, 792517, 818894]  \n",
       "3  [762205, 773719, 812167, 754323, 660599]  \n",
       "4  [824148, 783440, 741843, 587137, 761621]  "
      ]
     },
     "execution_count": 11,
     "metadata": {},
     "output_type": "execute_result"
    }
   ],
   "source": [
    "test_seq_df.head()"
   ]
  },
  {
   "cell_type": "code",
   "execution_count": 10,
   "id": "9d4dfe6e",
   "metadata": {},
   "outputs": [],
   "source": [
    "test_seq_df.drop(columns=['seq_list'], inplace=True)"
   ]
  },
  {
   "cell_type": "code",
   "execution_count": null,
   "id": "3d00cb13",
   "metadata": {},
   "outputs": [],
   "source": [
    "test_seq_df"
   ]
  },
  {
   "cell_type": "markdown",
   "id": "865cf4c8",
   "metadata": {},
   "source": [
    "I've learned embeddings using train dataset then using data from test duration I've looked up item vector from learned embeddings for each item within user sequence, combined them to represent user embedding. Used user embedding to search for most similar item vector(recommendations)\n",
    "\n",
    "What I'm unsure of is whether it is okay to judge item vectors' I've used while contructing user embedding as target set(true label) for evaluating performance metrics such as precision and recall. In my opinion, it should present leakage.\n",
    "\n",
    "So better way to measure performance and fair way to compare it to DeepFM metrics is to combine item vectors from train dataset, make k recommendations and compare it to true recommendations of test set."
   ]
  },
  {
   "cell_type": "code",
   "execution_count": null,
   "id": "c5ea08e5",
   "metadata": {},
   "outputs": [],
   "source": [
    "# Evalution metrics\n",
    "\n",
    "# Hit@K\n",
    "\n",
    "# Prec@K\n",
    "\n",
    "\n",
    "# AP@K\n",
    "\n",
    "# MAP@K"
   ]
  }
 ],
 "metadata": {
  "kernelspec": {
   "display_name": "recsys_venv",
   "language": "python",
   "name": "venv"
  },
  "language_info": {
   "codemirror_mode": {
    "name": "ipython",
    "version": 3
   },
   "file_extension": ".py",
   "mimetype": "text/x-python",
   "name": "python",
   "nbconvert_exporter": "python",
   "pygments_lexer": "ipython3",
   "version": "3.8.10"
  },
  "toc": {
   "base_numbering": 1,
   "nav_menu": {},
   "number_sections": true,
   "sideBar": true,
   "skip_h1_title": false,
   "title_cell": "Table of Contents",
   "title_sidebar": "Contents",
   "toc_cell": false,
   "toc_position": {},
   "toc_section_display": true,
   "toc_window_display": false
  }
 },
 "nbformat": 4,
 "nbformat_minor": 5
}
