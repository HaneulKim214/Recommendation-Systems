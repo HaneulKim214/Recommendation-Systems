{
 "cells": [
  {
   "cell_type": "code",
   "execution_count": 1,
   "id": "02daa1ff",
   "metadata": {},
   "outputs": [],
   "source": [
    "import numpy as np\n",
    "import pandas as pd"
   ]
  },
  {
   "cell_type": "code",
   "execution_count": 2,
   "id": "d733bdc8",
   "metadata": {},
   "outputs": [],
   "source": [
    "import os\n",
    "import sys"
   ]
  },
  {
   "cell_type": "code",
   "execution_count": 5,
   "id": "f951230e",
   "metadata": {},
   "outputs": [
    {
     "name": "stdout",
     "output_type": "stream",
     "text": [
      "python version : 3.8.10\n",
      "np version :  1.24.3\n",
      "pd version :  2.0.3\n"
     ]
    }
   ],
   "source": [
    "print(f\"python version : {sys.version_info.major}.{sys.version_info.minor}.{sys.version_info.micro}\",)\n",
    "\n",
    "print(\"np version : \", np.__version__)\n",
    "print(\"pd version : \",pd.__version__)"
   ]
  },
  {
   "cell_type": "code",
   "execution_count": 6,
   "id": "3c13cb23",
   "metadata": {},
   "outputs": [
    {
     "data": {
      "text/plain": [
       "['.git',\n",
       " '.ipynb_checkpoints',\n",
       " 'CART.ipynb',\n",
       " 'data',\n",
       " 'README.md',\n",
       " 'Untitled.ipynb',\n",
       " 'venv']"
      ]
     },
     "execution_count": 6,
     "metadata": {},
     "output_type": "execute_result"
    }
   ],
   "source": [
    "os.listdir()"
   ]
  },
  {
   "cell_type": "code",
   "execution_count": 7,
   "id": "8e0e5e58-bbc5-4af0-8151-ce85c18a0c93",
   "metadata": {},
   "outputs": [
    {
     "data": {
      "text/plain": [
       "['articles.parquet', 'customers.parquet', 'transactions_train.csv']"
      ]
     },
     "execution_count": 7,
     "metadata": {},
     "output_type": "execute_result"
    }
   ],
   "source": [
    "os.listdir(\"data/h&m/\")"
   ]
  },
  {
   "cell_type": "markdown",
   "id": "cc4cfe37-e8a0-4934-abe0-5c419392331c",
   "metadata": {},
   "source": [
    "Goal: predict article for each customer for next 7 days"
   ]
  },
  {
   "cell_type": "code",
   "execution_count": 10,
   "id": "8ff7deee",
   "metadata": {},
   "outputs": [],
   "source": [
    "interaction_df = pd.read_csv(\"data/h&m/transactions_train.csv\")\n",
    "user_df = pd.read_parquet(\"data/h&m/customers.parquet\")\n",
    "item_df = pd.read_parquet(\"data/h&m/articles.parquet\")"
   ]
  },
  {
   "cell_type": "markdown",
   "id": "5f22f99e-4425-4b8d-9ac4-045cb034c86b",
   "metadata": {},
   "source": [
    "## configs"
   ]
  },
  {
   "cell_type": "code",
   "execution_count": 17,
   "id": "d058d8e2-34fd-4913-b1eb-33cbf2d33e2f",
   "metadata": {},
   "outputs": [],
   "source": [
    "date_col = 't_dat'\n",
    "user_col = 'customer_id'\n",
    "item_col = 'article_id'"
   ]
  },
  {
   "cell_type": "code",
   "execution_count": 12,
   "id": "63a2856f-361f-4f5a-b159-d85ac124f728",
   "metadata": {},
   "outputs": [
    {
     "name": "stdout",
     "output_type": "stream",
     "text": [
      "(31788324, 5)\n"
     ]
    },
    {
     "data": {
      "text/html": [
       "<div>\n",
       "<style scoped>\n",
       "    .dataframe tbody tr th:only-of-type {\n",
       "        vertical-align: middle;\n",
       "    }\n",
       "\n",
       "    .dataframe tbody tr th {\n",
       "        vertical-align: top;\n",
       "    }\n",
       "\n",
       "    .dataframe thead th {\n",
       "        text-align: right;\n",
       "    }\n",
       "</style>\n",
       "<table border=\"1\" class=\"dataframe\">\n",
       "  <thead>\n",
       "    <tr style=\"text-align: right;\">\n",
       "      <th></th>\n",
       "      <th>t_dat</th>\n",
       "      <th>customer_id</th>\n",
       "      <th>article_id</th>\n",
       "      <th>price</th>\n",
       "      <th>sales_channel_id</th>\n",
       "    </tr>\n",
       "  </thead>\n",
       "  <tbody>\n",
       "    <tr>\n",
       "      <th>0</th>\n",
       "      <td>2018-09-20</td>\n",
       "      <td>000058a12d5b43e67d225668fa1f8d618c13dc232df0ca...</td>\n",
       "      <td>663713001</td>\n",
       "      <td>0.050831</td>\n",
       "      <td>2</td>\n",
       "    </tr>\n",
       "    <tr>\n",
       "      <th>1</th>\n",
       "      <td>2018-09-20</td>\n",
       "      <td>000058a12d5b43e67d225668fa1f8d618c13dc232df0ca...</td>\n",
       "      <td>541518023</td>\n",
       "      <td>0.030492</td>\n",
       "      <td>2</td>\n",
       "    </tr>\n",
       "    <tr>\n",
       "      <th>2</th>\n",
       "      <td>2018-09-20</td>\n",
       "      <td>00007d2de826758b65a93dd24ce629ed66842531df6699...</td>\n",
       "      <td>505221004</td>\n",
       "      <td>0.015237</td>\n",
       "      <td>2</td>\n",
       "    </tr>\n",
       "    <tr>\n",
       "      <th>3</th>\n",
       "      <td>2018-09-20</td>\n",
       "      <td>00007d2de826758b65a93dd24ce629ed66842531df6699...</td>\n",
       "      <td>685687003</td>\n",
       "      <td>0.016932</td>\n",
       "      <td>2</td>\n",
       "    </tr>\n",
       "    <tr>\n",
       "      <th>4</th>\n",
       "      <td>2018-09-20</td>\n",
       "      <td>00007d2de826758b65a93dd24ce629ed66842531df6699...</td>\n",
       "      <td>685687004</td>\n",
       "      <td>0.016932</td>\n",
       "      <td>2</td>\n",
       "    </tr>\n",
       "  </tbody>\n",
       "</table>\n",
       "</div>"
      ],
      "text/plain": [
       "        t_dat                                        customer_id  article_id  \\\n",
       "0  2018-09-20  000058a12d5b43e67d225668fa1f8d618c13dc232df0ca...   663713001   \n",
       "1  2018-09-20  000058a12d5b43e67d225668fa1f8d618c13dc232df0ca...   541518023   \n",
       "2  2018-09-20  00007d2de826758b65a93dd24ce629ed66842531df6699...   505221004   \n",
       "3  2018-09-20  00007d2de826758b65a93dd24ce629ed66842531df6699...   685687003   \n",
       "4  2018-09-20  00007d2de826758b65a93dd24ce629ed66842531df6699...   685687004   \n",
       "\n",
       "      price  sales_channel_id  \n",
       "0  0.050831                 2  \n",
       "1  0.030492                 2  \n",
       "2  0.015237                 2  \n",
       "3  0.016932                 2  \n",
       "4  0.016932                 2  "
      ]
     },
     "execution_count": 12,
     "metadata": {},
     "output_type": "execute_result"
    }
   ],
   "source": [
    "interaction_df[date_col] = pd.to_datetime(interaction_df[date_col], format='%Y-%m-%d')\n",
    "print(interaction_df.shape)\n",
    "interaction_df.head()"
   ]
  },
  {
   "cell_type": "code",
   "execution_count": 20,
   "id": "473fc759-b486-49bc-b27c-f10f1e9666e1",
   "metadata": {},
   "outputs": [
    {
     "data": {
      "text/html": [
       "<div>\n",
       "<style scoped>\n",
       "    .dataframe tbody tr th:only-of-type {\n",
       "        vertical-align: middle;\n",
       "    }\n",
       "\n",
       "    .dataframe tbody tr th {\n",
       "        vertical-align: top;\n",
       "    }\n",
       "\n",
       "    .dataframe thead th {\n",
       "        text-align: right;\n",
       "    }\n",
       "</style>\n",
       "<table border=\"1\" class=\"dataframe\">\n",
       "  <thead>\n",
       "    <tr style=\"text-align: right;\">\n",
       "      <th></th>\n",
       "      <th>t_dat</th>\n",
       "      <th>article_id</th>\n",
       "      <th>price</th>\n",
       "      <th>sales_channel_id</th>\n",
       "    </tr>\n",
       "  </thead>\n",
       "  <tbody>\n",
       "    <tr>\n",
       "      <th>count</th>\n",
       "      <td>31788324</td>\n",
       "      <td>3.178832e+07</td>\n",
       "      <td>3.178832e+07</td>\n",
       "      <td>3.178832e+07</td>\n",
       "    </tr>\n",
       "    <tr>\n",
       "      <th>mean</th>\n",
       "      <td>2019-09-15 17:27:46.894452992</td>\n",
       "      <td>6.962272e+08</td>\n",
       "      <td>2.782927e-02</td>\n",
       "      <td>1.704028e+00</td>\n",
       "    </tr>\n",
       "    <tr>\n",
       "      <th>min</th>\n",
       "      <td>2018-09-20 00:00:00</td>\n",
       "      <td>1.087750e+08</td>\n",
       "      <td>1.694915e-05</td>\n",
       "      <td>1.000000e+00</td>\n",
       "    </tr>\n",
       "    <tr>\n",
       "      <th>25%</th>\n",
       "      <td>2019-03-28 00:00:00</td>\n",
       "      <td>6.328030e+08</td>\n",
       "      <td>1.581356e-02</td>\n",
       "      <td>1.000000e+00</td>\n",
       "    </tr>\n",
       "    <tr>\n",
       "      <th>50%</th>\n",
       "      <td>2019-08-25 00:00:00</td>\n",
       "      <td>7.145820e+08</td>\n",
       "      <td>2.540678e-02</td>\n",
       "      <td>2.000000e+00</td>\n",
       "    </tr>\n",
       "    <tr>\n",
       "      <th>75%</th>\n",
       "      <td>2020-03-29 00:00:00</td>\n",
       "      <td>7.865240e+08</td>\n",
       "      <td>3.388136e-02</td>\n",
       "      <td>2.000000e+00</td>\n",
       "    </tr>\n",
       "    <tr>\n",
       "      <th>max</th>\n",
       "      <td>2020-09-22 00:00:00</td>\n",
       "      <td>9.562170e+08</td>\n",
       "      <td>5.915254e-01</td>\n",
       "      <td>2.000000e+00</td>\n",
       "    </tr>\n",
       "    <tr>\n",
       "      <th>std</th>\n",
       "      <td>NaN</td>\n",
       "      <td>1.334480e+08</td>\n",
       "      <td>1.918113e-02</td>\n",
       "      <td>4.564786e-01</td>\n",
       "    </tr>\n",
       "  </tbody>\n",
       "</table>\n",
       "</div>"
      ],
      "text/plain": [
       "                               t_dat    article_id         price  \\\n",
       "count                       31788324  3.178832e+07  3.178832e+07   \n",
       "mean   2019-09-15 17:27:46.894452992  6.962272e+08  2.782927e-02   \n",
       "min              2018-09-20 00:00:00  1.087750e+08  1.694915e-05   \n",
       "25%              2019-03-28 00:00:00  6.328030e+08  1.581356e-02   \n",
       "50%              2019-08-25 00:00:00  7.145820e+08  2.540678e-02   \n",
       "75%              2020-03-29 00:00:00  7.865240e+08  3.388136e-02   \n",
       "max              2020-09-22 00:00:00  9.562170e+08  5.915254e-01   \n",
       "std                              NaN  1.334480e+08  1.918113e-02   \n",
       "\n",
       "       sales_channel_id  \n",
       "count      3.178832e+07  \n",
       "mean       1.704028e+00  \n",
       "min        1.000000e+00  \n",
       "25%        1.000000e+00  \n",
       "50%        2.000000e+00  \n",
       "75%        2.000000e+00  \n",
       "max        2.000000e+00  \n",
       "std        4.564786e-01  "
      ]
     },
     "execution_count": 20,
     "metadata": {},
     "output_type": "execute_result"
    }
   ],
   "source": [
    "interaction_df.describe()"
   ]
  },
  {
   "cell_type": "code",
   "execution_count": 13,
   "id": "8e9d696b-2428-4e0f-a959-edaa78a43111",
   "metadata": {},
   "outputs": [
    {
     "name": "stdout",
     "output_type": "stream",
     "text": [
      "(1371980, 7)\n"
     ]
    },
    {
     "data": {
      "text/html": [
       "<div>\n",
       "<style scoped>\n",
       "    .dataframe tbody tr th:only-of-type {\n",
       "        vertical-align: middle;\n",
       "    }\n",
       "\n",
       "    .dataframe tbody tr th {\n",
       "        vertical-align: top;\n",
       "    }\n",
       "\n",
       "    .dataframe thead th {\n",
       "        text-align: right;\n",
       "    }\n",
       "</style>\n",
       "<table border=\"1\" class=\"dataframe\">\n",
       "  <thead>\n",
       "    <tr style=\"text-align: right;\">\n",
       "      <th></th>\n",
       "      <th>customer_id</th>\n",
       "      <th>FN</th>\n",
       "      <th>Active</th>\n",
       "      <th>club_member_status</th>\n",
       "      <th>fashion_news_frequency</th>\n",
       "      <th>age</th>\n",
       "      <th>postal_code</th>\n",
       "    </tr>\n",
       "  </thead>\n",
       "  <tbody>\n",
       "    <tr>\n",
       "      <th>0</th>\n",
       "      <td>00000dbacae5abe5e23885899a1fa44253a17956c6d1c3...</td>\n",
       "      <td>NaN</td>\n",
       "      <td>NaN</td>\n",
       "      <td>ACTIVE</td>\n",
       "      <td>NONE</td>\n",
       "      <td>49.0</td>\n",
       "      <td>52043ee2162cf5aa7ee79974281641c6f11a68d276429a...</td>\n",
       "    </tr>\n",
       "    <tr>\n",
       "      <th>1</th>\n",
       "      <td>0000423b00ade91418cceaf3b26c6af3dd342b51fd051e...</td>\n",
       "      <td>NaN</td>\n",
       "      <td>NaN</td>\n",
       "      <td>ACTIVE</td>\n",
       "      <td>NONE</td>\n",
       "      <td>25.0</td>\n",
       "      <td>2973abc54daa8a5f8ccfe9362140c63247c5eee03f1d93...</td>\n",
       "    </tr>\n",
       "    <tr>\n",
       "      <th>2</th>\n",
       "      <td>000058a12d5b43e67d225668fa1f8d618c13dc232df0ca...</td>\n",
       "      <td>NaN</td>\n",
       "      <td>NaN</td>\n",
       "      <td>ACTIVE</td>\n",
       "      <td>NONE</td>\n",
       "      <td>24.0</td>\n",
       "      <td>64f17e6a330a85798e4998f62d0930d14db8db1c054af6...</td>\n",
       "    </tr>\n",
       "    <tr>\n",
       "      <th>3</th>\n",
       "      <td>00005ca1c9ed5f5146b52ac8639a40ca9d57aeff4d1bd2...</td>\n",
       "      <td>NaN</td>\n",
       "      <td>NaN</td>\n",
       "      <td>ACTIVE</td>\n",
       "      <td>NONE</td>\n",
       "      <td>54.0</td>\n",
       "      <td>5d36574f52495e81f019b680c843c443bd343d5ca5b1c2...</td>\n",
       "    </tr>\n",
       "    <tr>\n",
       "      <th>4</th>\n",
       "      <td>00006413d8573cd20ed7128e53b7b13819fe5cfc2d801f...</td>\n",
       "      <td>1.0</td>\n",
       "      <td>1.0</td>\n",
       "      <td>ACTIVE</td>\n",
       "      <td>Regularly</td>\n",
       "      <td>52.0</td>\n",
       "      <td>25fa5ddee9aac01b35208d01736e57942317d756b32ddd...</td>\n",
       "    </tr>\n",
       "  </tbody>\n",
       "</table>\n",
       "</div>"
      ],
      "text/plain": [
       "                                         customer_id   FN  Active  \\\n",
       "0  00000dbacae5abe5e23885899a1fa44253a17956c6d1c3...  NaN     NaN   \n",
       "1  0000423b00ade91418cceaf3b26c6af3dd342b51fd051e...  NaN     NaN   \n",
       "2  000058a12d5b43e67d225668fa1f8d618c13dc232df0ca...  NaN     NaN   \n",
       "3  00005ca1c9ed5f5146b52ac8639a40ca9d57aeff4d1bd2...  NaN     NaN   \n",
       "4  00006413d8573cd20ed7128e53b7b13819fe5cfc2d801f...  1.0     1.0   \n",
       "\n",
       "  club_member_status fashion_news_frequency   age  \\\n",
       "0             ACTIVE                   NONE  49.0   \n",
       "1             ACTIVE                   NONE  25.0   \n",
       "2             ACTIVE                   NONE  24.0   \n",
       "3             ACTIVE                   NONE  54.0   \n",
       "4             ACTIVE              Regularly  52.0   \n",
       "\n",
       "                                         postal_code  \n",
       "0  52043ee2162cf5aa7ee79974281641c6f11a68d276429a...  \n",
       "1  2973abc54daa8a5f8ccfe9362140c63247c5eee03f1d93...  \n",
       "2  64f17e6a330a85798e4998f62d0930d14db8db1c054af6...  \n",
       "3  5d36574f52495e81f019b680c843c443bd343d5ca5b1c2...  \n",
       "4  25fa5ddee9aac01b35208d01736e57942317d756b32ddd...  "
      ]
     },
     "execution_count": 13,
     "metadata": {},
     "output_type": "execute_result"
    }
   ],
   "source": [
    "print(user_df.shape)\n",
    "user_df.head()"
   ]
  },
  {
   "cell_type": "code",
   "execution_count": 14,
   "id": "91de0ab1-cca9-4423-bb9f-79aea96ba775",
   "metadata": {},
   "outputs": [
    {
     "name": "stdout",
     "output_type": "stream",
     "text": [
      "(105542, 25)\n"
     ]
    },
    {
     "data": {
      "text/html": [
       "<div>\n",
       "<style scoped>\n",
       "    .dataframe tbody tr th:only-of-type {\n",
       "        vertical-align: middle;\n",
       "    }\n",
       "\n",
       "    .dataframe tbody tr th {\n",
       "        vertical-align: top;\n",
       "    }\n",
       "\n",
       "    .dataframe thead th {\n",
       "        text-align: right;\n",
       "    }\n",
       "</style>\n",
       "<table border=\"1\" class=\"dataframe\">\n",
       "  <thead>\n",
       "    <tr style=\"text-align: right;\">\n",
       "      <th></th>\n",
       "      <th>article_id</th>\n",
       "      <th>product_code</th>\n",
       "      <th>prod_name</th>\n",
       "      <th>product_type_no</th>\n",
       "      <th>product_type_name</th>\n",
       "      <th>product_group_name</th>\n",
       "      <th>graphical_appearance_no</th>\n",
       "      <th>graphical_appearance_name</th>\n",
       "      <th>colour_group_code</th>\n",
       "      <th>colour_group_name</th>\n",
       "      <th>...</th>\n",
       "      <th>department_name</th>\n",
       "      <th>index_code</th>\n",
       "      <th>index_name</th>\n",
       "      <th>index_group_no</th>\n",
       "      <th>index_group_name</th>\n",
       "      <th>section_no</th>\n",
       "      <th>section_name</th>\n",
       "      <th>garment_group_no</th>\n",
       "      <th>garment_group_name</th>\n",
       "      <th>detail_desc</th>\n",
       "    </tr>\n",
       "  </thead>\n",
       "  <tbody>\n",
       "    <tr>\n",
       "      <th>0</th>\n",
       "      <td>108775015</td>\n",
       "      <td>108775</td>\n",
       "      <td>Strap top</td>\n",
       "      <td>253</td>\n",
       "      <td>Vest top</td>\n",
       "      <td>Garment Upper body</td>\n",
       "      <td>1010016</td>\n",
       "      <td>Solid</td>\n",
       "      <td>9</td>\n",
       "      <td>Black</td>\n",
       "      <td>...</td>\n",
       "      <td>Jersey Basic</td>\n",
       "      <td>A</td>\n",
       "      <td>Ladieswear</td>\n",
       "      <td>1</td>\n",
       "      <td>Ladieswear</td>\n",
       "      <td>16</td>\n",
       "      <td>Womens Everyday Basics</td>\n",
       "      <td>1002</td>\n",
       "      <td>Jersey Basic</td>\n",
       "      <td>Jersey top with narrow shoulder straps.</td>\n",
       "    </tr>\n",
       "    <tr>\n",
       "      <th>1</th>\n",
       "      <td>108775044</td>\n",
       "      <td>108775</td>\n",
       "      <td>Strap top</td>\n",
       "      <td>253</td>\n",
       "      <td>Vest top</td>\n",
       "      <td>Garment Upper body</td>\n",
       "      <td>1010016</td>\n",
       "      <td>Solid</td>\n",
       "      <td>10</td>\n",
       "      <td>White</td>\n",
       "      <td>...</td>\n",
       "      <td>Jersey Basic</td>\n",
       "      <td>A</td>\n",
       "      <td>Ladieswear</td>\n",
       "      <td>1</td>\n",
       "      <td>Ladieswear</td>\n",
       "      <td>16</td>\n",
       "      <td>Womens Everyday Basics</td>\n",
       "      <td>1002</td>\n",
       "      <td>Jersey Basic</td>\n",
       "      <td>Jersey top with narrow shoulder straps.</td>\n",
       "    </tr>\n",
       "    <tr>\n",
       "      <th>2</th>\n",
       "      <td>108775051</td>\n",
       "      <td>108775</td>\n",
       "      <td>Strap top (1)</td>\n",
       "      <td>253</td>\n",
       "      <td>Vest top</td>\n",
       "      <td>Garment Upper body</td>\n",
       "      <td>1010017</td>\n",
       "      <td>Stripe</td>\n",
       "      <td>11</td>\n",
       "      <td>Off White</td>\n",
       "      <td>...</td>\n",
       "      <td>Jersey Basic</td>\n",
       "      <td>A</td>\n",
       "      <td>Ladieswear</td>\n",
       "      <td>1</td>\n",
       "      <td>Ladieswear</td>\n",
       "      <td>16</td>\n",
       "      <td>Womens Everyday Basics</td>\n",
       "      <td>1002</td>\n",
       "      <td>Jersey Basic</td>\n",
       "      <td>Jersey top with narrow shoulder straps.</td>\n",
       "    </tr>\n",
       "    <tr>\n",
       "      <th>3</th>\n",
       "      <td>110065001</td>\n",
       "      <td>110065</td>\n",
       "      <td>OP T-shirt (Idro)</td>\n",
       "      <td>306</td>\n",
       "      <td>Bra</td>\n",
       "      <td>Underwear</td>\n",
       "      <td>1010016</td>\n",
       "      <td>Solid</td>\n",
       "      <td>9</td>\n",
       "      <td>Black</td>\n",
       "      <td>...</td>\n",
       "      <td>Clean Lingerie</td>\n",
       "      <td>B</td>\n",
       "      <td>Lingeries/Tights</td>\n",
       "      <td>1</td>\n",
       "      <td>Ladieswear</td>\n",
       "      <td>61</td>\n",
       "      <td>Womens Lingerie</td>\n",
       "      <td>1017</td>\n",
       "      <td>Under-, Nightwear</td>\n",
       "      <td>Microfibre T-shirt bra with underwired, moulde...</td>\n",
       "    </tr>\n",
       "    <tr>\n",
       "      <th>4</th>\n",
       "      <td>110065002</td>\n",
       "      <td>110065</td>\n",
       "      <td>OP T-shirt (Idro)</td>\n",
       "      <td>306</td>\n",
       "      <td>Bra</td>\n",
       "      <td>Underwear</td>\n",
       "      <td>1010016</td>\n",
       "      <td>Solid</td>\n",
       "      <td>10</td>\n",
       "      <td>White</td>\n",
       "      <td>...</td>\n",
       "      <td>Clean Lingerie</td>\n",
       "      <td>B</td>\n",
       "      <td>Lingeries/Tights</td>\n",
       "      <td>1</td>\n",
       "      <td>Ladieswear</td>\n",
       "      <td>61</td>\n",
       "      <td>Womens Lingerie</td>\n",
       "      <td>1017</td>\n",
       "      <td>Under-, Nightwear</td>\n",
       "      <td>Microfibre T-shirt bra with underwired, moulde...</td>\n",
       "    </tr>\n",
       "  </tbody>\n",
       "</table>\n",
       "<p>5 rows × 25 columns</p>\n",
       "</div>"
      ],
      "text/plain": [
       "   article_id  product_code          prod_name  product_type_no  \\\n",
       "0   108775015        108775          Strap top              253   \n",
       "1   108775044        108775          Strap top              253   \n",
       "2   108775051        108775      Strap top (1)              253   \n",
       "3   110065001        110065  OP T-shirt (Idro)              306   \n",
       "4   110065002        110065  OP T-shirt (Idro)              306   \n",
       "\n",
       "  product_type_name  product_group_name  graphical_appearance_no  \\\n",
       "0          Vest top  Garment Upper body                  1010016   \n",
       "1          Vest top  Garment Upper body                  1010016   \n",
       "2          Vest top  Garment Upper body                  1010017   \n",
       "3               Bra           Underwear                  1010016   \n",
       "4               Bra           Underwear                  1010016   \n",
       "\n",
       "  graphical_appearance_name  colour_group_code colour_group_name  ...  \\\n",
       "0                     Solid                  9             Black  ...   \n",
       "1                     Solid                 10             White  ...   \n",
       "2                    Stripe                 11         Off White  ...   \n",
       "3                     Solid                  9             Black  ...   \n",
       "4                     Solid                 10             White  ...   \n",
       "\n",
       "   department_name index_code        index_name index_group_no  \\\n",
       "0     Jersey Basic          A        Ladieswear              1   \n",
       "1     Jersey Basic          A        Ladieswear              1   \n",
       "2     Jersey Basic          A        Ladieswear              1   \n",
       "3   Clean Lingerie          B  Lingeries/Tights              1   \n",
       "4   Clean Lingerie          B  Lingeries/Tights              1   \n",
       "\n",
       "   index_group_name section_no            section_name garment_group_no  \\\n",
       "0        Ladieswear         16  Womens Everyday Basics             1002   \n",
       "1        Ladieswear         16  Womens Everyday Basics             1002   \n",
       "2        Ladieswear         16  Womens Everyday Basics             1002   \n",
       "3        Ladieswear         61         Womens Lingerie             1017   \n",
       "4        Ladieswear         61         Womens Lingerie             1017   \n",
       "\n",
       "   garment_group_name                                        detail_desc  \n",
       "0        Jersey Basic            Jersey top with narrow shoulder straps.  \n",
       "1        Jersey Basic            Jersey top with narrow shoulder straps.  \n",
       "2        Jersey Basic            Jersey top with narrow shoulder straps.  \n",
       "3   Under-, Nightwear  Microfibre T-shirt bra with underwired, moulde...  \n",
       "4   Under-, Nightwear  Microfibre T-shirt bra with underwired, moulde...  \n",
       "\n",
       "[5 rows x 25 columns]"
      ]
     },
     "execution_count": 14,
     "metadata": {},
     "output_type": "execute_result"
    }
   ],
   "source": [
    "print(item_df.shape)\n",
    "item_df.head()"
   ]
  },
  {
   "cell_type": "markdown",
   "id": "52eacdff-04c0-4547-842b-0c9b595a02c6",
   "metadata": {},
   "source": [
    "# Data Preprocessing"
   ]
  },
  {
   "cell_type": "markdown",
   "id": "a8b1c25e-711e-49e5-8dc6-5b29b0d8fd0c",
   "metadata": {},
   "source": [
    "# Modeling"
   ]
  },
  {
   "cell_type": "markdown",
   "id": "7f20fc42-b142-4b95-a80b-c177515635a5",
   "metadata": {},
   "source": [
    "## Item2Vec"
   ]
  },
  {
   "cell_type": "code",
   "execution_count": 21,
   "id": "b066e147-22d9-4a1c-86af-1aeea850375a",
   "metadata": {},
   "outputs": [],
   "source": [
    "import gensim"
   ]
  },
  {
   "cell_type": "code",
   "execution_count": 38,
   "id": "85162aa1-fd27-4fb8-9804-a4493b0305ca",
   "metadata": {},
   "outputs": [],
   "source": [
    "train_df = interaction_df.loc[interaction_df['t_dat'] < '2020-01-01'].copy()\n",
    "test_df = interaction_df.loc[interaction_df['t_dat'] < '2020-01-01'].copy()"
   ]
  },
  {
   "cell_type": "code",
   "execution_count": 23,
   "id": "db27ff08-6fd4-4a8c-b4a0-0ac7a755a058",
   "metadata": {},
   "outputs": [
    {
     "data": {
      "text/html": [
       "<div>\n",
       "<style scoped>\n",
       "    .dataframe tbody tr th:only-of-type {\n",
       "        vertical-align: middle;\n",
       "    }\n",
       "\n",
       "    .dataframe tbody tr th {\n",
       "        vertical-align: top;\n",
       "    }\n",
       "\n",
       "    .dataframe thead th {\n",
       "        text-align: right;\n",
       "    }\n",
       "</style>\n",
       "<table border=\"1\" class=\"dataframe\">\n",
       "  <thead>\n",
       "    <tr style=\"text-align: right;\">\n",
       "      <th></th>\n",
       "      <th>t_dat</th>\n",
       "      <th>customer_id</th>\n",
       "      <th>article_id</th>\n",
       "      <th>price</th>\n",
       "      <th>sales_channel_id</th>\n",
       "    </tr>\n",
       "  </thead>\n",
       "  <tbody>\n",
       "    <tr>\n",
       "      <th>0</th>\n",
       "      <td>2018-09-20</td>\n",
       "      <td>000058a12d5b43e67d225668fa1f8d618c13dc232df0ca...</td>\n",
       "      <td>663713001</td>\n",
       "      <td>0.050831</td>\n",
       "      <td>2</td>\n",
       "    </tr>\n",
       "    <tr>\n",
       "      <th>1</th>\n",
       "      <td>2018-09-20</td>\n",
       "      <td>000058a12d5b43e67d225668fa1f8d618c13dc232df0ca...</td>\n",
       "      <td>541518023</td>\n",
       "      <td>0.030492</td>\n",
       "      <td>2</td>\n",
       "    </tr>\n",
       "    <tr>\n",
       "      <th>2</th>\n",
       "      <td>2018-09-20</td>\n",
       "      <td>00007d2de826758b65a93dd24ce629ed66842531df6699...</td>\n",
       "      <td>505221004</td>\n",
       "      <td>0.015237</td>\n",
       "      <td>2</td>\n",
       "    </tr>\n",
       "    <tr>\n",
       "      <th>3</th>\n",
       "      <td>2018-09-20</td>\n",
       "      <td>00007d2de826758b65a93dd24ce629ed66842531df6699...</td>\n",
       "      <td>685687003</td>\n",
       "      <td>0.016932</td>\n",
       "      <td>2</td>\n",
       "    </tr>\n",
       "    <tr>\n",
       "      <th>4</th>\n",
       "      <td>2018-09-20</td>\n",
       "      <td>00007d2de826758b65a93dd24ce629ed66842531df6699...</td>\n",
       "      <td>685687004</td>\n",
       "      <td>0.016932</td>\n",
       "      <td>2</td>\n",
       "    </tr>\n",
       "  </tbody>\n",
       "</table>\n",
       "</div>"
      ],
      "text/plain": [
       "       t_dat                                        customer_id  article_id  \\\n",
       "0 2018-09-20  000058a12d5b43e67d225668fa1f8d618c13dc232df0ca...   663713001   \n",
       "1 2018-09-20  000058a12d5b43e67d225668fa1f8d618c13dc232df0ca...   541518023   \n",
       "2 2018-09-20  00007d2de826758b65a93dd24ce629ed66842531df6699...   505221004   \n",
       "3 2018-09-20  00007d2de826758b65a93dd24ce629ed66842531df6699...   685687003   \n",
       "4 2018-09-20  00007d2de826758b65a93dd24ce629ed66842531df6699...   685687004   \n",
       "\n",
       "      price  sales_channel_id  \n",
       "0  0.050831                 2  \n",
       "1  0.030492                 2  \n",
       "2  0.015237                 2  \n",
       "3  0.016932                 2  \n",
       "4  0.016932                 2  "
      ]
     },
     "execution_count": 23,
     "metadata": {},
     "output_type": "execute_result"
    }
   ],
   "source": [
    "train_df.head()"
   ]
  },
  {
   "cell_type": "code",
   "execution_count": 48,
   "id": "c765be1b-780b-4649-9ea0-0dac25b1a515",
   "metadata": {},
   "outputs": [],
   "source": [
    "user_seq = train_df.groupby(user_col)[item_col].apply(list)\n",
    "user_seq_df = pd.DataFrame(user_seq).rename(columns={item_col:\"seq_list\"})\n",
    "tr_seq_df = train_df.drop_duplicates(user_col, keep='first')\n",
    "tr_seq_df = tr_seq_df.merge(user_seq_df, on=user_col)"
   ]
  },
  {
   "cell_type": "code",
   "execution_count": 57,
   "id": "e2b9bdb9-bf99-4391-b5f6-b3542958d07e",
   "metadata": {},
   "outputs": [],
   "source": [
    "tr_seq_df['n_seq'] = tr_seq_df['seq_list'].str.len()"
   ]
  },
  {
   "cell_type": "code",
   "execution_count": 68,
   "id": "b690d039-8f0a-44ef-b03f-c876bd518669",
   "metadata": {},
   "outputs": [
    {
     "data": {
      "text/plain": [
       "array([[<Axes: title={'center': 'n_seq'}>]], dtype=object)"
      ]
     },
     "execution_count": 68,
     "metadata": {},
     "output_type": "execute_result"
    },
    {
     "data": {
      "image/png": "[encoded data removed]",
      "text/plain": [
       "<Figure size 400x300 with 1 Axes>"
      ]
     },
     "metadata": {},
     "output_type": "display_data"
    }
   ],
   "source": [
    "tr_seq_df[['n_seq']].hist(bins=100, figsize=(4, 3))"
   ]
  },
  {
   "cell_type": "code",
   "execution_count": 70,
   "id": "13b4c327-1130-4fa0-a365-474018b59220",
   "metadata": {},
   "outputs": [
    {
     "data": {
      "text/html": [
       "<div>\n",
       "<style scoped>\n",
       "    .dataframe tbody tr th:only-of-type {\n",
       "        vertical-align: middle;\n",
       "    }\n",
       "\n",
       "    .dataframe tbody tr th {\n",
       "        vertical-align: top;\n",
       "    }\n",
       "\n",
       "    .dataframe thead th {\n",
       "        text-align: right;\n",
       "    }\n",
       "</style>\n",
       "<table border=\"1\" class=\"dataframe\">\n",
       "  <thead>\n",
       "    <tr style=\"text-align: right;\">\n",
       "      <th></th>\n",
       "      <th>t_dat</th>\n",
       "      <th>customer_id</th>\n",
       "      <th>article_id</th>\n",
       "      <th>price</th>\n",
       "      <th>sales_channel_id</th>\n",
       "      <th>seq_list</th>\n",
       "      <th>n_seq</th>\n",
       "    </tr>\n",
       "  </thead>\n",
       "  <tbody>\n",
       "    <tr>\n",
       "      <th>0</th>\n",
       "      <td>2018-09-20</td>\n",
       "      <td>000058a12d5b43e67d225668fa1f8d618c13dc232df0ca...</td>\n",
       "      <td>663713001</td>\n",
       "      <td>0.050831</td>\n",
       "      <td>2</td>\n",
       "      <td>[663713001, 541518023, 663713001, 578020002]</td>\n",
       "      <td>4</td>\n",
       "    </tr>\n",
       "    <tr>\n",
       "      <th>1</th>\n",
       "      <td>2018-09-20</td>\n",
       "      <td>00007d2de826758b65a93dd24ce629ed66842531df6699...</td>\n",
       "      <td>505221004</td>\n",
       "      <td>0.015237</td>\n",
       "      <td>2</td>\n",
       "      <td>[505221004, 685687003, 685687004, 685687001, 5...</td>\n",
       "      <td>110</td>\n",
       "    </tr>\n",
       "    <tr>\n",
       "      <th>2</th>\n",
       "      <td>2018-09-20</td>\n",
       "      <td>00083cda041544b2fbb0e0d2905ad17da7cf1007526fb4...</td>\n",
       "      <td>688873012</td>\n",
       "      <td>0.030492</td>\n",
       "      <td>1</td>\n",
       "      <td>[688873012, 501323011, 598859003, 688873020, 6...</td>\n",
       "      <td>26</td>\n",
       "    </tr>\n",
       "    <tr>\n",
       "      <th>3</th>\n",
       "      <td>2018-09-20</td>\n",
       "      <td>0008968c0d451dbc5a9968da03196fe20051965edde741...</td>\n",
       "      <td>531310002</td>\n",
       "      <td>0.022525</td>\n",
       "      <td>2</td>\n",
       "      <td>[531310002, 529841001, 662980002, 496111003, 5...</td>\n",
       "      <td>38</td>\n",
       "    </tr>\n",
       "    <tr>\n",
       "      <th>4</th>\n",
       "      <td>2018-09-20</td>\n",
       "      <td>000aa7f0dc06cd7174389e76c9e132a67860c5f65f9706...</td>\n",
       "      <td>501820043</td>\n",
       "      <td>0.016932</td>\n",
       "      <td>2</td>\n",
       "      <td>[501820043, 501820043, 674681001, 671505001, 6...</td>\n",
       "      <td>47</td>\n",
       "    </tr>\n",
       "  </tbody>\n",
       "</table>\n",
       "</div>"
      ],
      "text/plain": [
       "       t_dat                                        customer_id  article_id  \\\n",
       "0 2018-09-20  000058a12d5b43e67d225668fa1f8d618c13dc232df0ca...   663713001   \n",
       "1 2018-09-20  00007d2de826758b65a93dd24ce629ed66842531df6699...   505221004   \n",
       "2 2018-09-20  00083cda041544b2fbb0e0d2905ad17da7cf1007526fb4...   688873012   \n",
       "3 2018-09-20  0008968c0d451dbc5a9968da03196fe20051965edde741...   531310002   \n",
       "4 2018-09-20  000aa7f0dc06cd7174389e76c9e132a67860c5f65f9706...   501820043   \n",
       "\n",
       "      price  sales_channel_id  \\\n",
       "0  0.050831                 2   \n",
       "1  0.015237                 2   \n",
       "2  0.030492                 1   \n",
       "3  0.022525                 2   \n",
       "4  0.016932                 2   \n",
       "\n",
       "                                            seq_list  n_seq  \n",
       "0       [663713001, 541518023, 663713001, 578020002]      4  \n",
       "1  [505221004, 685687003, 685687004, 685687001, 5...    110  \n",
       "2  [688873012, 501323011, 598859003, 688873020, 6...     26  \n",
       "3  [531310002, 529841001, 662980002, 496111003, 5...     38  \n",
       "4  [501820043, 501820043, 674681001, 671505001, 6...     47  "
      ]
     },
     "execution_count": 70,
     "metadata": {},
     "output_type": "execute_result"
    }
   ],
   "source": [
    "tr_seq_df.head()"
   ]
  },
  {
   "cell_type": "code",
   "execution_count": 71,
   "id": "dc8ceb1c-0eb2-49a3-ad06-0295ec95d631",
   "metadata": {},
   "outputs": [],
   "source": [
    "tr_sequences = tr_seq_df['seq_list'].tolist()"
   ]
  },
  {
   "cell_type": "code",
   "execution_count": 75,
   "id": "564eaafb-5345-43b1-8225-95e2b5b07145",
   "metadata": {},
   "outputs": [
    {
     "name": "stdout",
     "output_type": "stream",
     "text": [
      "Time passed: 0:00:00.004656\n"
     ]
    }
   ],
   "source": [
    "from gensim.models import Word2Vec\n",
    "import datetime\n",
    "\n",
    "model = Word2Vec(vector_size = 100, #\n",
    "                 workers = 4, # s\n",
    "                 sg = 1, # 1 = Skip-gram, else = CBOW\n",
    "                 hs = 0, # Hierachical softmax = 1, else Negative sampling\n",
    "                 negative = 5, \n",
    "                 window = 9999999)"
   ]
  },
  {
   "cell_type": "code",
   "execution_count": 86,
   "id": "5d459c86-707f-4785-a500-06ce17505776",
   "metadata": {},
   "outputs": [],
   "source": [
    "model.build_vocab(tr_sequences, progress_per=10_000)\n",
    "model.train(tr_sequences, total_examples=model.corpus_count,\n",
    "           epochs=10)"
   ]
  },
  {
   "cell_type": "code",
   "execution_count": null,
   "id": "dd595193-89e9-4f01-b499-cd9b87d461e0",
   "metadata": {},
   "outputs": [],
   "source": [
    "model.save('trained_model/item2vec.model')"
   ]
  },
  {
   "cell_type": "code",
   "execution_count": null,
   "id": "a341ee8c-b79f-4bf4-8ca7-1175d1285968",
   "metadata": {},
   "outputs": [],
   "source": [
    "item2vec = Word2Vec(vector_size=100, workers=4, sg=1, hs=0, negative=5, window=9999999)\n",
    "model = item2vec.load('trained_model/item2vec.model')"
   ]
  },
  {
   "cell_type": "code",
   "execution_count": null,
   "id": "15dfd20e-3182-47ed-ac6e-0bd125e11063",
   "metadata": {},
   "outputs": [],
   "source": [
    "item_vectors = model.wv\n",
    "item_vectors[item_id] # get item_id's item vector"
   ]
  },
  {
   "cell_type": "code",
   "execution_count": 84,
   "id": "e9785fe0-db27-4be3-b68a-83b8807deba4",
   "metadata": {},
   "outputs": [
    {
     "data": {
      "text/plain": [
       "True"
      ]
     },
     "execution_count": 84,
     "metadata": {},
     "output_type": "execute_result"
    }
   ],
   "source": [
    "model.corpus_count == len(tr_seq_df)"
   ]
  },
  {
   "cell_type": "code",
   "execution_count": 82,
   "id": "12d52a65-a660-4c84-902d-581c51d1fb86",
   "metadata": {},
   "outputs": [
    {
     "data": {
      "text/plain": [
       "True"
      ]
     },
     "execution_count": 82,
     "metadata": {},
     "output_type": "execute_result"
    }
   ],
   "source": [
    "model.corpus_total_words == tr_seq_df['n_seq'].sum()"
   ]
  },
  {
   "cell_type": "code",
   "execution_count": null,
   "id": "2d94901f-5a0f-4336-9535-0c3a10808a92",
   "metadata": {},
   "outputs": [],
   "source": [
    "import umap\n",
    "cluster_embedding = umap.UMAP(n_neighbors=30, min_dist=0.0,\n",
    "                              n_components=2, random_state=42).fit_transform(X)\n",
    "plt.figure(figsize=(10,9))\n",
    "plt.scatter(cluster_embedding[:, 0], cluster_embedding[:, 1], s=3, cmap='Spectral')"
   ]
  },
  {
   "cell_type": "code",
   "execution_count": null,
   "id": "10e424f8-792a-4da2-9952-e239dc7fd41e",
   "metadata": {},
   "outputs": [],
   "source": [
    "user_seq = test_df.groupby(user_col)[item_col].apply(list)\n",
    "user_seq_df = pd.DataFrame(user_seq).rename(columns={item_col:\"seq_list\"})\n",
    "test_seq_df = test_df.drop_duplicates(user_col, keep='first')\n",
    "test_seq_df = test_seq_df.merge(user_seq_df, on=user_col)\n",
    "\n",
    "test_seq_df['true_y'] = test_seq_df.apply(lambda x: x[-1])"
   ]
  },
  {
   "cell_type": "code",
   "execution_count": null,
   "id": "969bd2e5-c0ca-446c-951b-df9d198b4268",
   "metadata": {},
   "outputs": [],
   "source": [
    "\n",
    "for row in test_seq_df.iter_tuple():\n",
    "    row = getattr()"
   ]
  },
  {
   "cell_type": "code",
   "execution_count": null,
   "id": "da1c8069-3e93-4325-9a3a-6bac1c2279a6",
   "metadata": {},
   "outputs": [],
   "source": []
  }
 ],
 "metadata": {
  "kernelspec": {
   "display_name": "recsys_venv",
   "language": "python",
   "name": "venv"
  },
  "language_info": {
   "codemirror_mode": {
    "name": "ipython",
    "version": 3
   },
   "file_extension": ".py",
   "mimetype": "text/x-python",
   "name": "python",
   "nbconvert_exporter": "python",
   "pygments_lexer": "ipython3",
   "version": "3.8.10"
  },
  "toc": {
   "base_numbering": 1,
   "nav_menu": {},
   "number_sections": true,
   "sideBar": true,
   "skip_h1_title": false,
   "title_cell": "Table of Contents",
   "title_sidebar": "Contents",
   "toc_cell": false,
   "toc_position": {},
   "toc_section_display": true,
   "toc_window_display": true
  }
 },
 "nbformat": 4,
 "nbformat_minor": 5
}
